{
 "cells": [
  {
   "cell_type": "markdown",
   "id": "55c4c887",
   "metadata": {},
   "source": [
    "## Generating the Data\n",
    "For the sake of simplicity, we'll assume the time between each activity are uniformly distributed between 0 and 19 days. And the type of activity will always be either 'sign-up', 'sign-in', or 'purchase'. The sign-in must be after an initial sign-up. And the purchase will be following a sign-in.\n",
    "\n",
    "Assume that we have 10k users for efficiency, though we think 10 million would be more realistic."
   ]
  },
  {
   "cell_type": "code",
   "execution_count": 1,
   "id": "bcdc4636",
   "metadata": {},
   "outputs": [],
   "source": [
    "import numpy as np\n",
    "from datetime import date, timedelta"
   ]
  },
  {
   "cell_type": "code",
   "execution_count": 2,
   "id": "f1bd8436",
   "metadata": {},
   "outputs": [],
   "source": [
    "#%%timeit -r 1\n",
    "\n",
    "total_user = 10000\n",
    "tensor = np.ndarray(shape=(total_user, 365, 3), dtype=bool)\n",
    "\n",
    "# dim1 = userID (fixed)\n",
    "# dim2 = activityDate (max 365)\n",
    "# dim3 = activityType (max 3)\n",
    "\n",
    "for user_id in range(total_user):\n",
    "    num_activities = np.random.choice(100)\n",
    "    signed_up = False\n",
    "    for activity_date in np.sort(np.random.choice(365, size=num_activities, replace=False)):\n",
    "        if signed_up:\n",
    "            activity_type = np.random.choice([1, 2])\n",
    "            tensor[user_id][activity_date][activity_type] = True\n",
    "        else:\n",
    "            tensor[user_id][activity_date][0] = True\n",
    "            signed_up = True"
   ]
  },
  {
   "cell_type": "markdown",
   "id": "16a9e99e",
   "metadata": {},
   "source": [
    "2.77 s ± 0 ns per loop (mean ± std. dev. of 1 run, 1 loop each)"
   ]
  },
  {
   "cell_type": "markdown",
   "id": "6ea8286a",
   "metadata": {},
   "source": [
    "## Prognosis\n",
    "\n",
    "The data generated mostly have a sign-up date closer to the beginning of the year.\\\n",
    "But we would let that go for the sake of simplicity."
   ]
  },
  {
   "cell_type": "markdown",
   "id": "4c170f7a",
   "metadata": {},
   "source": [
    "## Cleaning the Data\n",
    "\n",
    "Now, let's convert the ndarray into a DataFrame-like table."
   ]
  },
  {
   "cell_type": "code",
   "execution_count": 3,
   "id": "fe12744f",
   "metadata": {},
   "outputs": [],
   "source": [
    "#%%timeit -r 1\n",
    "table = []\n",
    "for user_id in range(len(tensor)):\n",
    "    for activity_date in range(len(tensor[user_id])):\n",
    "        for activity_type in range(len(tensor[user_id][activity_date])):\n",
    "            if tensor[user_id][activity_date][activity_type] == True:\n",
    "                row = [user_id, date(2017, 1, 1) + timedelta(activity_date), activity_type]\n",
    "                table.append(row)"
   ]
  },
  {
   "cell_type": "markdown",
   "id": "434cdbfd",
   "metadata": {},
   "source": [
    "14 s ± 0 ns per loop (mean ± std. dev. of 1 run, 1 loop each)"
   ]
  },
  {
   "cell_type": "code",
   "execution_count": 4,
   "id": "4112fac4",
   "metadata": {},
   "outputs": [],
   "source": [
    "import pandas as pd"
   ]
  },
  {
   "cell_type": "code",
   "execution_count": 25,
   "id": "1872a6fe",
   "metadata": {},
   "outputs": [],
   "source": [
    "df = pd.DataFrame(table, columns=['user_id', 'date', 'activity_type'])\n",
    "df = df.sort_values('date')\n",
    "df = df.reset_index()\n",
    "df.head(10)"
   ]
  },
  {
   "cell_type": "code",
   "execution_count": null,
   "id": "fe6c54e1",
   "metadata": {},
   "outputs": [],
   "source": [
    "df.to_csv(\"data.csv\")"
   ]
  }
 ],
 "metadata": {
  "kernelspec": {
   "display_name": "Python 3",
   "language": "python",
   "name": "python3"
  },
  "language_info": {
   "codemirror_mode": {
    "name": "ipython",
    "version": 3
   },
   "file_extension": ".py",
   "mimetype": "text/x-python",
   "name": "python",
   "nbconvert_exporter": "python",
   "pygments_lexer": "ipython3",
   "version": "3.9.5"
  }
 },
 "nbformat": 4,
 "nbformat_minor": 5
}
