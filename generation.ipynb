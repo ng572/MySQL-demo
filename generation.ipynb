{
 "cells": [
  {
   "cell_type": "markdown",
   "id": "36020c86",
   "metadata": {},
   "source": [
    "## Generating the Data\n",
    "For the sake of simplicity, we'll assume the time between each activity are uniformly distributed between 0 and 19 days. And the type of activity will always be either 'sign-up', 'sign-in', or 'purchase'. The sign-in must be after an initial sign-up. And the purchase will be following a sign-in.\n",
    "\n",
    "Assume that we have 10k users for efficiency, though we think 10 million would be more realistic."
   ]
  },
  {
   "cell_type": "code",
   "execution_count": 1,
   "id": "e4f05926",
   "metadata": {},
   "outputs": [],
   "source": [
    "import numpy as np\n",
    "from datetime import date, timedelta"
   ]
  },
  {
   "cell_type": "code",
   "execution_count": 2,
   "id": "e562c9fd",
   "metadata": {},
   "outputs": [],
   "source": [
    "#%%timeit -r 1\n",
    "\n",
    "total_user = 10000\n",
    "tensor = np.ndarray(shape=(total_user, 365, 3), dtype=bool)\n",
    "\n",
    "# dim1 = userID (fixed)\n",
    "# dim2 = activityDate (max 365)\n",
    "# dim3 = activityType (max 3)\n",
    "\n",
    "for user_id in range(total_user):\n",
    "    num_activities = np.random.choice(100)\n",
    "    signed_up = False\n",
    "    for activity_date in np.sort(np.random.choice(365, size=num_activities, replace=False)):\n",
    "        if signed_up:\n",
    "            activity_type = np.random.choice([1, 2])\n",
    "            tensor[user_id][activity_date][activity_type] = True\n",
    "        else:\n",
    "            tensor[user_id][activity_date][0] = True\n",
    "            signed_up = True"
   ]
  },
  {
   "cell_type": "markdown",
   "id": "30f7fd2b",
   "metadata": {},
   "source": [
    "2.77 s ± 0 ns per loop (mean ± std. dev. of 1 run, 1 loop each)"
   ]
  },
  {
   "cell_type": "markdown",
   "id": "e4ded6b5",
   "metadata": {},
   "source": [
    "## Prognosis\n",
    "\n",
    "The data generated mostly have a sign-up date closer to the beginning of the year.\\\n",
    "But we would let that go for the sake of simplicity."
   ]
  },
  {
   "cell_type": "markdown",
   "id": "477d3557",
   "metadata": {},
   "source": [
    "## Cleaning the Data\n",
    "\n",
    "Now, let's convert the ndarray into a DataFrame-like table."
   ]
  },
  {
   "cell_type": "code",
   "execution_count": 3,
   "id": "a8984c83",
   "metadata": {},
   "outputs": [],
   "source": [
    "#%%timeit -r 1\n",
    "table = []\n",
    "for user_id in range(len(tensor)):\n",
    "    for activity_date in range(len(tensor[user_id])):\n",
    "        for activity_type in range(len(tensor[user_id][activity_date])):\n",
    "            if tensor[user_id][activity_date][activity_type] == True:\n",
    "                row = [user_id, date(2017, 1, 1) + timedelta(activity_date), activity_type]\n",
    "                table.append(row)"
   ]
  },
  {
   "cell_type": "markdown",
   "id": "c0e5b55e",
   "metadata": {},
   "source": [
    "14 s ± 0 ns per loop (mean ± std. dev. of 1 run, 1 loop each)"
   ]
  },
  {
   "cell_type": "code",
   "execution_count": 4,
   "id": "9b181362",
   "metadata": {},
   "outputs": [],
   "source": [
    "import pandas as pd"
   ]
  },
  {
   "cell_type": "code",
   "execution_count": 5,
   "id": "91678fd3",
   "metadata": {},
   "outputs": [
    {
     "data": {
      "text/html": [
       "<div>\n",
       "<style scoped>\n",
       "    .dataframe tbody tr th:only-of-type {\n",
       "        vertical-align: middle;\n",
       "    }\n",
       "\n",
       "    .dataframe tbody tr th {\n",
       "        vertical-align: top;\n",
       "    }\n",
       "\n",
       "    .dataframe thead th {\n",
       "        text-align: right;\n",
       "    }\n",
       "</style>\n",
       "<table border=\"1\" class=\"dataframe\">\n",
       "  <thead>\n",
       "    <tr style=\"text-align: right;\">\n",
       "      <th></th>\n",
       "      <th>user_id</th>\n",
       "      <th>date</th>\n",
       "      <th>activity_type</th>\n",
       "    </tr>\n",
       "  </thead>\n",
       "  <tbody>\n",
       "    <tr>\n",
       "      <th>0</th>\n",
       "      <td>7624</td>\n",
       "      <td>2017-01-01</td>\n",
       "      <td>0</td>\n",
       "    </tr>\n",
       "    <tr>\n",
       "      <th>1</th>\n",
       "      <td>5279</td>\n",
       "      <td>2017-01-01</td>\n",
       "      <td>0</td>\n",
       "    </tr>\n",
       "    <tr>\n",
       "      <th>2</th>\n",
       "      <td>6045</td>\n",
       "      <td>2017-01-01</td>\n",
       "      <td>0</td>\n",
       "    </tr>\n",
       "    <tr>\n",
       "      <th>3</th>\n",
       "      <td>9591</td>\n",
       "      <td>2017-01-01</td>\n",
       "      <td>0</td>\n",
       "    </tr>\n",
       "    <tr>\n",
       "      <th>4</th>\n",
       "      <td>7602</td>\n",
       "      <td>2017-01-01</td>\n",
       "      <td>0</td>\n",
       "    </tr>\n",
       "    <tr>\n",
       "      <th>5</th>\n",
       "      <td>6562</td>\n",
       "      <td>2017-01-01</td>\n",
       "      <td>0</td>\n",
       "    </tr>\n",
       "    <tr>\n",
       "      <th>6</th>\n",
       "      <td>533</td>\n",
       "      <td>2017-01-01</td>\n",
       "      <td>0</td>\n",
       "    </tr>\n",
       "    <tr>\n",
       "      <th>7</th>\n",
       "      <td>1225</td>\n",
       "      <td>2017-01-01</td>\n",
       "      <td>0</td>\n",
       "    </tr>\n",
       "    <tr>\n",
       "      <th>8</th>\n",
       "      <td>7866</td>\n",
       "      <td>2017-01-01</td>\n",
       "      <td>0</td>\n",
       "    </tr>\n",
       "    <tr>\n",
       "      <th>9</th>\n",
       "      <td>4418</td>\n",
       "      <td>2017-01-01</td>\n",
       "      <td>0</td>\n",
       "    </tr>\n",
       "  </tbody>\n",
       "</table>\n",
       "</div>"
      ],
      "text/plain": [
       "   user_id        date  activity_type\n",
       "0     7624  2017-01-01              0\n",
       "1     5279  2017-01-01              0\n",
       "2     6045  2017-01-01              0\n",
       "3     9591  2017-01-01              0\n",
       "4     7602  2017-01-01              0\n",
       "5     6562  2017-01-01              0\n",
       "6      533  2017-01-01              0\n",
       "7     1225  2017-01-01              0\n",
       "8     7866  2017-01-01              0\n",
       "9     4418  2017-01-01              0"
      ]
     },
     "execution_count": 5,
     "metadata": {},
     "output_type": "execute_result"
    }
   ],
   "source": [
    "df = pd.DataFrame(table, columns=['user_id', 'date', 'activity_type'])\n",
    "df = df.sort_values('date')\n",
    "df = df.reset_index()\n",
    "df = df.drop('index', axis=1)\n",
    "df.head(10)"
   ]
  },
  {
   "cell_type": "code",
   "execution_count": 6,
   "id": "ff3ef7cf",
   "metadata": {},
   "outputs": [],
   "source": [
    "df.to_csv(\"data.csv\")"
   ]
  }
 ],
 "metadata": {
  "kernelspec": {
   "display_name": "Python 3",
   "language": "python",
   "name": "python3"
  },
  "language_info": {
   "codemirror_mode": {
    "name": "ipython",
    "version": 3
   },
   "file_extension": ".py",
   "mimetype": "text/x-python",
   "name": "python",
   "nbconvert_exporter": "python",
   "pygments_lexer": "ipython3",
   "version": "3.9.5"
  }
 },
 "nbformat": 4,
 "nbformat_minor": 5
}
